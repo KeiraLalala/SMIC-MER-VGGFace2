{
 "cells": [
  {
   "cell_type": "code",
   "execution_count": 1,
   "metadata": {},
   "outputs": [],
   "source": [
    "import PIL\n",
    "import time\n",
    "import math\n",
    "import copy\n",
    "import torch\n",
    "import random\n",
    "import glob as gb\n",
    "import torchvision\n",
    "import numpy as np\n",
    "import pandas as pd\n",
    "import torch.nn as nn\n",
    "import torch.optim as optim\n",
    "import matplotlib.pyplot as plt\n",
    "import matplotlib.image as mpimg\n",
    "import resnet50_128_redesign as model\n",
    "from PIL import Image\n",
    "from tqdm import tqdm,trange\n",
    "from torchsummary import summary\n",
    "from torch.optim import lr_scheduler\n",
    "from sklearn.metrics import confusion_matrix\n",
    "from torch.utils.data import Dataset, DataLoader\n",
    "from torch.nn.utils import clip_grad_norm_, clip_grad_value_\n",
    "from torchvision import transforms, utils\n",
    "from sklearn.metrics import accuracy_score\n",
    "from DataProcessing import process_dataloder\n",
    "# Ignore warnings\n",
    "import warnings\n",
    "warnings.filterwarnings(\"ignore\")\n",
    "plt.ion()   # interactive mode"
   ]
  },
  {
   "cell_type": "code",
   "execution_count": null,
   "metadata": {},
   "outputs": [],
   "source": [
    "train_loader, test_loader = process_dataloder()"
   ]
  },
  {
   "cell_type": "code",
   "execution_count": 4,
   "metadata": {},
   "outputs": [],
   "source": [
    "def training(phase, model, criterion, optimizer):\n",
    "    running_loss = 0.0\n",
    "    running_corrects = 0\n",
    "    nb_classes = 4\n",
    "    confusion_matrix = torch.zeros(nb_classes, nb_classes)\n",
    "    if phase == 'train':\n",
    "        dataloaders = train_loader\n",
    "    else dataloaders = test_loader\n",
    "    # Iterate over data.        \n",
    "    for inputs, labels in dataloaders:            \n",
    "        inputs = inputs.to(device)            \n",
    "        labels = labels.to(device)\n",
    "        \n",
    "        # zero the parameter gradients\n",
    "        optimizer.zero_grad()\n",
    "        \n",
    "        # forward\n",
    "        # track history if only in train\n",
    "        with torch.set_grad_enabled(phase == 'train'):\n",
    "            \n",
    "            outputs = model(inputs)            \n",
    "            _, preds = torch.max(outputs, 1)\n",
    "            loss = criterion(outputs, preds)    \n",
    "            \n",
    "            # backward + optimize only if in training phase\n",
    "            if phase == 'train':\n",
    "                loss.backward()\n",
    "#                 clip_grad_norm_(model.parameters(), 5)\n",
    "                optimizer.step()  \n",
    "            if phase == 'test':              \n",
    "                with torch.no_grad():\n",
    "#                     for t, p in zip(labels.view(-1), preds.view(-1)):\n",
    "#                         confusion_matrix[t.long(), p.long()] += 1\n",
    "\n",
    "        running_loss += loss.item() * inputs.size(0)\n",
    "        running_corrects += torch.sum(preds == labels.data) \n",
    "        \n",
    "    if phase == 'test':\n",
    "        print(confusion_matrix)\n",
    "\n",
    "    return running_loss, running_corrects     "
   ]
  },
  {
   "cell_type": "code",
   "execution_count": 5,
   "metadata": {},
   "outputs": [],
   "source": [
    "def epoch_mode(model, criterion, optimizer, scheduler, num_epochs=25):\n",
    "    since = time.time()\n",
    "    logs = []\n",
    "    Acc = {'train':[],'test':[]}\n",
    "    Los = {'train':[],'test':[]}\n",
    "    best_model_wts = copy.deepcopy(model.state_dict())\n",
    "    best_acc = 0.0\n",
    "\n",
    "    for epoch in range(num_epochs):        \n",
    "        print('Epoch {}/{}'.format(epoch, num_epochs - 1))\n",
    "        print('-' * 10)\n",
    "        \n",
    "        # Each epoch has a training and validation phase\n",
    "        for phase in ['train', 'test']:\n",
    "            if phase == 'train':\n",
    "                model.train()  # Set model to training mode\n",
    "            else:\n",
    "                model.eval()   # Set model to evaluate mode\n",
    "            running_loss, running_corrects = training(phase, model, criterion, optimizer)\n",
    "            if phase == 'train':\n",
    "                scheduler.step()\n",
    "                lr_sched_test = scheduler.get_lr()\n",
    "\n",
    "            epoch_loss = running_loss / dataset_sizes[phase]\n",
    "            epoch_acc = running_corrects.double() / dataset_sizes[phase]\n",
    "\n",
    "            print('{} Loss: {:.4f} Acc: {:.4f}'.format(\n",
    "            phase, epoch_loss, epoch_acc))\n",
    "            \n",
    "            # deep copy the model\n",
    "            if phase == 'test' and epoch_acc > best_acc:\n",
    "                best_acc = epoch_acc\n",
    "                best_model_wts = copy.deepcopy(model.state_dict())      \n",
    "            Acc[phase].append(epoch_acc)\n",
    "            Los[phase].append(epoch_loss)\n",
    "    time_elapsed = time.time() - since\n",
    "    print('Training complete in {:.0f}m {:.0f}s'.format(\n",
    "        time_elapsed // 60, time_elapsed % 60))\n",
    "    print('Best test Acc: {:4f}'.format(best_acc))\n",
    "\n",
    "    # load best model weights\n",
    "    model.load_state_dict(best_model_wts)\n",
    "    return model, Acc, Los"
   ]
  },
  {
   "cell_type": "code",
   "execution_count": 9,
   "metadata": {},
   "outputs": [],
   "source": [
    "#Freeze layers before classifier\n",
    "def freezing(model, features_layers):\n",
    "    lay_mark = 0;\n",
    "    para_list = []\n",
    "    for param in modelRes50.parameters():\n",
    "        if lay_mark > features_layers:\n",
    "            para_list.append(param)\n",
    "        if lay_mark <= features_layers:\n",
    "            param.requires_grad = False\n",
    "        lay_mark += 1\n",
    "    return model, para_list"
   ]
  },
  {
   "cell_type": "code",
   "execution_count": 13,
   "metadata": {},
   "outputs": [],
   "source": [
    "#download the pre-trained model\n",
    "device = torch.device(\"cuda:0\" if torch.cuda.is_available() else \"cpu\")\n",
    "modelRes50 = model.resnet50_128(weights_path='./model/resnet50_128.pth')\n",
    "modelRes50.add_module(\"feat_extract1\",nn.Conv2d(128, 64, kernel_size=[1, 1], stride=(1, 1), bias=False))\n",
    "modelRes50.add_module(\"feat_extract2\",nn.Conv2d(64, 4, kernel_size=[1, 1], stride=(1, 1), bias=False))\n",
    "modelRes50.add_layers([modelRes50.feat_extract1, modelRes50.feat_extract2])\n",
    "modelRes50, para_list = freezing(modelRes50, features_layers)\n",
    "modelRes50 = modelRes50.to(device)\n",
    "features_layers = 91"
   ]
  },
  {
   "cell_type": "code",
   "execution_count": 14,
   "metadata": {},
   "outputs": [],
   "source": [
    "#final layer are being optimized \n",
    "criterion = nn.CrossEntropyLoss()\n",
    "optimizer_ft = optim.SGD(para_list, lr=0.00035, momentum=0.9)\n",
    "exp_lr_scheduler = lr_scheduler.StepLR(optimizer_ft, step_size=7, gamma=0.1)"
   ]
  },
  {
   "cell_type": "code",
   "execution_count": null,
   "metadata": {
    "scrolled": true
   },
   "outputs": [],
   "source": [
    "# # Parameters\n",
    "# lr_max = 1.2*10e-2\n",
    "# factor = 6\n",
    "# num_epochs=75\n",
    "# end_lr = lr_max\n",
    "# iter=0\n",
    "# total_logs = []\n",
    "# features_layers = 158\n",
    "# step_size = 4*len(dataloaders[\"train\"])\n",
    "# Epo = [x for x in range(num_epochs)]\n",
    "\n",
    "# # Do 3 sequential runs\n",
    "\n",
    "# # Instantiate the model \n",
    "# modelRes50 = model.resnet50_128(weights_path='./model/resnet50_128.pth')\n",
    "# modelRes50.add_module(\"feat_extract1\",nn.Conv2d(128, 64, kernel_size=[1, 1], stride=(1, 1), bias=False))\n",
    "# modelRes50.add_module(\"feat_extract2\",nn.Conv2d(64, 4, kernel_size=[1, 1], stride=(1, 1), bias=False))\n",
    "# modelRes50.add_layers([modelRes50.feat_extract1, modelRes50.feat_extract2])\n",
    "\n",
    "# modelRes50, para_list = freezing(modelRes50, features_layers)\n",
    "# modelRes50 = modelRes50.to(device)\n",
    "\n",
    "# # Define the loss function\n",
    "# criterion = nn.CrossEntropyLoss()\n",
    "\n",
    "# # Define the optimizer \n",
    "\n",
    "# optimizer_ft = optim.SGD(para_list, lr=1.)    \n",
    "# clr = cyclical_lr(step_size, min_lr=end_lr/factor, max_lr=end_lr)\n",
    "# exp_lr_scheduler = torch.optim.lr_scheduler.LambdaLR(optimizer_ft, [clr])\n",
    "# modelRes50, Acc, Los = epoch_mode(modelRes50, criterion, optimizer_ft, exp_lr_scheduler, num_epochs) \n",
    "\n",
    "# plt.title('Accuracy and Loss for testing and testing')\n",
    "# plt.subplot(2, 1, 1)   \n",
    "# plt.plot(Epo, Acc[\"train\"], 'g--')\n",
    "# plt.plot(Epo, Acc[\"test\"], 'r--')\n",
    "# plt.xlabel('Epoch')\n",
    "# plt.ylabel('Accuracy')\n",
    "# plt.legend('Training accuracy', 'Testing accuracy')\n",
    "\n",
    "# plt.subplot(2, 1, 2)\n",
    "# plt.plot(Epo, Los[\"train\"], 'y--')\n",
    "# plt.plot(Epo, Los[\"test\"], 'b--')    \n",
    "# plt.xlabel('Epoch')\n",
    "# plt.ylabel('Loss')\n",
    "# plt.legend('Training loss', 'Testing loss')\n",
    "# plt.show()"
   ]
  },
  {
   "cell_type": "code",
   "execution_count": 15,
   "metadata": {
    "scrolled": false
   },
   "outputs": [
    {
     "name": "stdout",
     "output_type": "stream",
     "text": [
      "Epoch 0/4\n",
      "----------\n",
      "train Loss: 0.0181 Acc: 0.2494\n",
      "tensor([[1.6000e+01, 2.0700e+03, 4.4100e+02, 1.6330e+03],\n",
      "        [0.0000e+00, 9.8400e+02, 1.9500e+02, 2.4210e+03],\n",
      "        [1.0000e+00, 1.0030e+03, 3.6700e+02, 3.2370e+03],\n",
      "        [0.0000e+00, 1.1220e+03, 1.3200e+02, 2.3780e+03]])\n",
      "test Loss: 0.0428 Acc: 0.2341\n",
      "Epoch 1/4\n",
      "----------\n",
      "train Loss: 0.0009 Acc: 0.2417\n",
      "tensor([[2.0000e+00, 2.7510e+03, 6.0000e+00, 1.4010e+03],\n",
      "        [0.0000e+00, 2.0420e+03, 0.0000e+00, 1.5580e+03],\n",
      "        [0.0000e+00, 2.4950e+03, 0.0000e+00, 2.1130e+03],\n",
      "        [0.0000e+00, 1.9470e+03, 2.0000e+00, 1.6830e+03]])\n",
      "test Loss: 0.0108 Acc: 0.2329\n",
      "Epoch 2/4\n",
      "----------\n",
      "train Loss: 0.0000 Acc: 0.2446\n",
      "tensor([[3.0000e+00, 2.7150e+03, 1.0000e+00, 1.4410e+03],\n",
      "        [0.0000e+00, 1.9880e+03, 0.0000e+00, 1.6120e+03],\n",
      "        [0.0000e+00, 2.4470e+03, 0.0000e+00, 2.1610e+03],\n",
      "        [0.0000e+00, 1.8780e+03, 3.0000e+00, 1.7510e+03]])\n",
      "test Loss: 0.0218 Acc: 0.2339\n",
      "Epoch 3/4\n",
      "----------\n",
      "train Loss: 0.0000 Acc: 0.2446\n",
      "tensor([[   3., 2713.,    4., 1440.],\n",
      "        [   0., 1987.,    0., 1613.],\n",
      "        [   0., 2441.,    0., 2167.],\n",
      "        [   0., 1863.,    8., 1761.]])\n",
      "test Loss: 0.0241 Acc: 0.2344\n",
      "Epoch 4/4\n",
      "----------\n",
      "train Loss: 0.0000 Acc: 0.2445\n",
      "tensor([[   3., 2713.,    0., 1444.],\n",
      "        [   0., 1986.,    0., 1614.],\n",
      "        [   0., 2442.,    0., 2166.],\n",
      "        [   0., 1872.,    0., 1760.]])\n",
      "test Loss: 0.0227 Acc: 0.2343\n",
      "Training complete in 10m 47s\n",
      "Best test Acc: 0.234437\n"
     ]
    }
   ],
   "source": [
    "modelRes50, Acc, Los = epoch_mode(modelRes50, criterion, optimizer_ft, exp_lr_scheduler, num_epochs=5)"
   ]
  },
  {
   "cell_type": "code",
   "execution_count": 17,
   "metadata": {},
   "outputs": [
    {
     "data": {
      "image/png": "[encoded data removed]",
      "text/plain": [
       "<Figure size 432x288 with 2 Axes>"
      ]
     },
     "metadata": {
      "needs_background": "light"
     },
     "output_type": "display_data"
    }
   ],
   "source": [
    "Epo = [x for x in range(5)]\n",
    "    \n",
    "plt.title('Accuracy and Loss for testing and testing')\n",
    "plt.subplot(2, 1, 1)   \n",
    "plt.plot(Epo, Acc[\"train\"], 'g^')\n",
    "plt.plot(Epo, Acc[\"test\"], 'r--')\n",
    "plt.xlabel('Epoch')\n",
    "plt.ylabel('Accuracy')\n",
    "plt.legend('Training accuracy', 'Testing accuracy')\n",
    "\n",
    "plt.subplot(2, 1, 2)\n",
    "plt.plot(Epo, Los[\"train\"], 'y*')\n",
    "plt.plot(Epo, Los[\"test\"], 'bs')    \n",
    "plt.xlabel('Epoch')\n",
    "plt.ylabel('Loss')\n",
    "plt.legend('Training loss', 'Testing loss')\n",
    "plt.show()"
   ]
  },
  {
   "cell_type": "code",
   "execution_count": 18,
   "metadata": {},
   "outputs": [
    {
     "name": "stdout",
     "output_type": "stream",
     "text": [
      "['negative', 'positive', 'surprise', 'non_micro-expression']\n",
      "tensor([[   3., 2713.,    4., 1440.],\n",
      "        [   0., 1987.,    0., 1613.],\n",
      "        [   0., 2441.,    0., 2167.],\n",
      "        [   0., 1863.,    8., 1761.]])\n"
     ]
    }
   ],
   "source": [
    "nb_classes = 4\n",
    "\n",
    "confusion_matrix = torch.zeros(nb_classes, nb_classes)\n",
    "with torch.no_grad():\n",
    "    for i, (inputs, classes) in enumerate(dataloaders['test']):\n",
    "        inputs = inputs.to(device)\n",
    "        classes = classes.to(device)\n",
    "        outputs = modelRes50(inputs)\n",
    "        _, preds = torch.max(outputs, 1)\n",
    "        for t, p in zip(classes.view(-1), preds.view(-1)):\n",
    "                confusion_matrix[t.long(), p.long()] += 1\n",
    "print(class_names)\n",
    "print(confusion_matrix)"
   ]
  }
 ],
 "metadata": {
  "kernelspec": {
   "display_name": "Python (myenv)",
   "language": "python",
   "name": "myenv"
  },
  "language_info": {
   "codemirror_mode": {
    "name": "ipython",
    "version": 3
   },
   "file_extension": ".py",
   "mimetype": "text/x-python",
   "name": "python",
   "nbconvert_exporter": "python",
   "pygments_lexer": "ipython3",
   "version": "3.7.5"
  }
 },
 "nbformat": 4,
 "nbformat_minor": 2
}
